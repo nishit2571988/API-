{
 "cells": [
  {
   "cell_type": "code",
   "execution_count": 1,
   "id": "339947f0",
   "metadata": {},
   "outputs": [],
   "source": [
    "d = {\"name\": \"Alice\", \"age\": 30, \"city\": \"New York\"}"
   ]
  },
  {
   "cell_type": "code",
   "execution_count": 2,
   "id": "572b7384",
   "metadata": {},
   "outputs": [
    {
     "data": {
      "text/plain": [
       "{'name': 'Alice', 'age': 30, 'city': 'New York'}"
      ]
     },
     "execution_count": 2,
     "metadata": {},
     "output_type": "execute_result"
    }
   ],
   "source": [
    "d"
   ]
  },
  {
   "cell_type": "code",
   "execution_count": 3,
   "id": "9b7c2d95",
   "metadata": {},
   "outputs": [],
   "source": [
    "d[\"name\"]  = \"blob\""
   ]
  },
  {
   "cell_type": "code",
   "execution_count": 4,
   "id": "c0a1ca97",
   "metadata": {},
   "outputs": [
    {
     "data": {
      "text/plain": [
       "{'name': 'blob', 'age': 30, 'city': 'New York'}"
      ]
     },
     "execution_count": 4,
     "metadata": {},
     "output_type": "execute_result"
    }
   ],
   "source": [
    "d"
   ]
  },
  {
   "cell_type": "code",
   "execution_count": 5,
   "id": "2584390d",
   "metadata": {},
   "outputs": [],
   "source": [
    "user_db={\n",
    "    1:{\"name\": \"John\", \"age\": 30},\n",
    "    2:{\"name\": \"Jane\", \"age\": 25},\n",
    "    3:{\"name\": \"Doe\", \"age\": 22},\n",
    "    4:{\"name\": \"Alice\", \"age\": 28},\n",
    "    5:{\"name\": \"Bob\", \"age\": 35},\n",
    "    6:{\"name\": \"Charlie\", \"age\": 27},\n",
    "    7:{\"name\": \"Eve\", \"age\": 32},\n",
    "}"
   ]
  },
  {
   "cell_type": "code",
   "execution_count": 6,
   "id": "3a9a8ea1",
   "metadata": {},
   "outputs": [
    {
     "data": {
      "text/plain": [
       "{1: {'name': 'John', 'age': 30},\n",
       " 2: {'name': 'Jane', 'age': 25},\n",
       " 3: {'name': 'Doe', 'age': 22},\n",
       " 4: {'name': 'Alice', 'age': 28},\n",
       " 5: {'name': 'Bob', 'age': 35},\n",
       " 6: {'name': 'Charlie', 'age': 27},\n",
       " 7: {'name': 'Eve', 'age': 32}}"
      ]
     },
     "execution_count": 6,
     "metadata": {},
     "output_type": "execute_result"
    }
   ],
   "source": [
    "user_db"
   ]
  },
  {
   "cell_type": "code",
   "execution_count": 7,
   "id": "1fd628ee",
   "metadata": {},
   "outputs": [],
   "source": [
    "user_db[4] = {\"name\": \"dddd\", \"age\": 25}"
   ]
  },
  {
   "cell_type": "code",
   "execution_count": 8,
   "id": "6f8e83ee",
   "metadata": {},
   "outputs": [
    {
     "data": {
      "text/plain": [
       "{1: {'name': 'John', 'age': 30},\n",
       " 2: {'name': 'Jane', 'age': 25},\n",
       " 3: {'name': 'Doe', 'age': 22},\n",
       " 4: {'name': 'dddd', 'age': 25},\n",
       " 5: {'name': 'Bob', 'age': 35},\n",
       " 6: {'name': 'Charlie', 'age': 27},\n",
       " 7: {'name': 'Eve', 'age': 32}}"
      ]
     },
     "execution_count": 8,
     "metadata": {},
     "output_type": "execute_result"
    }
   ],
   "source": [
    "user_db"
   ]
  },
  {
   "cell_type": "code",
   "execution_count": 9,
   "id": "62b27478",
   "metadata": {},
   "outputs": [],
   "source": [
    "del user_db[2]"
   ]
  },
  {
   "cell_type": "code",
   "execution_count": 10,
   "id": "c32750c3",
   "metadata": {},
   "outputs": [
    {
     "data": {
      "text/plain": [
       "{1: {'name': 'John', 'age': 30},\n",
       " 3: {'name': 'Doe', 'age': 22},\n",
       " 4: {'name': 'dddd', 'age': 25},\n",
       " 5: {'name': 'Bob', 'age': 35},\n",
       " 6: {'name': 'Charlie', 'age': 27},\n",
       " 7: {'name': 'Eve', 'age': 32}}"
      ]
     },
     "execution_count": 10,
     "metadata": {},
     "output_type": "execute_result"
    }
   ],
   "source": [
    "user_db"
   ]
  },
  {
   "cell_type": "code",
   "execution_count": null,
   "id": "3b395d3e",
   "metadata": {},
   "outputs": [],
   "source": []
  }
 ],
 "metadata": {
  "kernelspec": {
   "display_name": "Python 3",
   "language": "python",
   "name": "python3"
  },
  "language_info": {
   "codemirror_mode": {
    "name": "ipython",
    "version": 3
   },
   "file_extension": ".py",
   "mimetype": "text/x-python",
   "name": "python",
   "nbconvert_exporter": "python",
   "pygments_lexer": "ipython3",
   "version": "3.13.5"
  }
 },
 "nbformat": 4,
 "nbformat_minor": 5
}
